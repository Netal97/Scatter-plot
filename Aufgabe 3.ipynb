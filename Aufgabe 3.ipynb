{
 "cells": [
  {
   "cell_type": "markdown",
   "id": "bc34b1fb",
   "metadata": {},
   "source": [
    "# Streudiagramm"
   ]
  },
  {
   "cell_type": "markdown",
   "id": "1a15cb8d",
   "metadata": {},
   "source": [
    "#### Aufgabe 1\n",
    "\n",
    "Erstellung ein Streudiagramm (scatter plot) für den Studis200-Datensatz mit Python!\n",
    "\n",
    "- Nutzen Sie die Bibliotheken pandas und matplotlib (oder vergleichbare)!\n",
    "\n",
    "- Achten Sie auf eine korrekte und vollständige Beschriftung des Diagramms!\n",
    "\n",
    "- Es gibt zwei Wege:\n",
    "\n",
    "- ***(Einfach) Darstellung in einem Python-Notebook (innerhalb der *.ipynb-Datei)***\n",
    "\n",
    "- ***Export als Bild (direkt aus einer *.py-Datei)***\n",
    "\n"
   ]
  },
  {
   "cell_type": "markdown",
   "id": "8493513c",
   "metadata": {},
   "source": [
    "### Import notwendige Bibliotheken\n",
    "\n",
    "***Pandas***\n",
    "\n",
    "***Matplotlib***"
   ]
  },
  {
   "cell_type": "code",
   "execution_count": 1,
   "id": "969bd16f",
   "metadata": {},
   "outputs": [],
   "source": [
    "import pandas as pd\n",
    "from matplotlib import pyplot as plt"
   ]
  },
  {
   "cell_type": "markdown",
   "id": "672f3c88",
   "metadata": {},
   "source": [
    "### Datensatz abrufen"
   ]
  },
  {
   "cell_type": "code",
   "execution_count": 26,
   "id": "ffc41d26",
   "metadata": {},
   "outputs": [
    {
     "data": {
      "text/html": [
       "<div>\n",
       "<style scoped>\n",
       "    .dataframe tbody tr th:only-of-type {\n",
       "        vertical-align: middle;\n",
       "    }\n",
       "\n",
       "    .dataframe tbody tr th {\n",
       "        vertical-align: top;\n",
       "    }\n",
       "\n",
       "    .dataframe thead th {\n",
       "        text-align: right;\n",
       "    }\n",
       "</style>\n",
       "<table border=\"1\" class=\"dataframe\">\n",
       "  <thead>\n",
       "    <tr style=\"text-align: right;\">\n",
       "      <th></th>\n",
       "      <th>kgroesse</th>\n",
       "      <th>kgewicht</th>\n",
       "      <th>Geschlecht</th>\n",
       "      <th>Studiengang</th>\n",
       "    </tr>\n",
       "  </thead>\n",
       "  <tbody>\n",
       "    <tr>\n",
       "      <th>0</th>\n",
       "      <td>177</td>\n",
       "      <td>73</td>\n",
       "      <td>m</td>\n",
       "      <td>Informatik</td>\n",
       "    </tr>\n",
       "    <tr>\n",
       "      <th>1</th>\n",
       "      <td>176</td>\n",
       "      <td>62</td>\n",
       "      <td>m</td>\n",
       "      <td>Informatik</td>\n",
       "    </tr>\n",
       "    <tr>\n",
       "      <th>2</th>\n",
       "      <td>168</td>\n",
       "      <td>51</td>\n",
       "      <td>m</td>\n",
       "      <td>Informatik</td>\n",
       "    </tr>\n",
       "    <tr>\n",
       "      <th>3</th>\n",
       "      <td>164</td>\n",
       "      <td>56</td>\n",
       "      <td>w</td>\n",
       "      <td>Informatik</td>\n",
       "    </tr>\n",
       "    <tr>\n",
       "      <th>4</th>\n",
       "      <td>171</td>\n",
       "      <td>63</td>\n",
       "      <td>m</td>\n",
       "      <td>Informatik</td>\n",
       "    </tr>\n",
       "  </tbody>\n",
       "</table>\n",
       "</div>"
      ],
      "text/plain": [
       "   kgroesse  kgewicht Geschlecht Studiengang\n",
       "0       177        73          m  Informatik\n",
       "1       176        62          m  Informatik\n",
       "2       168        51          m  Informatik\n",
       "3       164        56          w  Informatik\n",
       "4       171        63          m  Informatik"
      ]
     },
     "execution_count": 26,
     "metadata": {},
     "output_type": "execute_result"
    }
   ],
   "source": [
    "df = pd.read_csv(\"Studis200.txt\", sep=\" \")\n",
    "df.head()"
   ]
  },
  {
   "cell_type": "code",
   "execution_count": 27,
   "id": "a137cb0c",
   "metadata": {},
   "outputs": [
    {
     "name": "stdout",
     "output_type": "stream",
     "text": [
      "Zeilenanzahl ist: 200\n"
     ]
    }
   ],
   "source": [
    "print('Zeilenanzahl ist:',len(df.index))"
   ]
  },
  {
   "cell_type": "markdown",
   "id": "59aa302b",
   "metadata": {},
   "source": [
    "## Scatter plot "
   ]
  },
  {
   "cell_type": "code",
   "execution_count": 33,
   "id": "7f749f25",
   "metadata": {},
   "outputs": [
    {
     "data": {
      "text/html": [
       "<div>\n",
       "<style scoped>\n",
       "    .dataframe tbody tr th:only-of-type {\n",
       "        vertical-align: middle;\n",
       "    }\n",
       "\n",
       "    .dataframe tbody tr th {\n",
       "        vertical-align: top;\n",
       "    }\n",
       "\n",
       "    .dataframe thead th {\n",
       "        text-align: right;\n",
       "    }\n",
       "</style>\n",
       "<table border=\"1\" class=\"dataframe\">\n",
       "  <thead>\n",
       "    <tr style=\"text-align: right;\">\n",
       "      <th></th>\n",
       "      <th>kgroesse</th>\n",
       "      <th>kgewicht</th>\n",
       "      <th>Geschlecht</th>\n",
       "    </tr>\n",
       "  </thead>\n",
       "  <tbody>\n",
       "    <tr>\n",
       "      <th>0</th>\n",
       "      <td>177</td>\n",
       "      <td>73</td>\n",
       "      <td>m</td>\n",
       "    </tr>\n",
       "    <tr>\n",
       "      <th>1</th>\n",
       "      <td>176</td>\n",
       "      <td>62</td>\n",
       "      <td>m</td>\n",
       "    </tr>\n",
       "    <tr>\n",
       "      <th>2</th>\n",
       "      <td>168</td>\n",
       "      <td>51</td>\n",
       "      <td>m</td>\n",
       "    </tr>\n",
       "    <tr>\n",
       "      <th>3</th>\n",
       "      <td>164</td>\n",
       "      <td>56</td>\n",
       "      <td>w</td>\n",
       "    </tr>\n",
       "    <tr>\n",
       "      <th>4</th>\n",
       "      <td>171</td>\n",
       "      <td>63</td>\n",
       "      <td>m</td>\n",
       "    </tr>\n",
       "  </tbody>\n",
       "</table>\n",
       "</div>"
      ],
      "text/plain": [
       "   kgroesse  kgewicht Geschlecht\n",
       "0       177        73          m\n",
       "1       176        62          m\n",
       "2       168        51          m\n",
       "3       164        56          w\n",
       "4       171        63          m"
      ]
     },
     "execution_count": 33,
     "metadata": {},
     "output_type": "execute_result"
    }
   ],
   "source": [
    "scatter = df[['kgroesse', 'kgewicht', 'Geschlecht']]\n",
    "scatter.head()"
   ]
  },
  {
   "cell_type": "code",
   "execution_count": 40,
   "id": "b2e5ba4a",
   "metadata": {},
   "outputs": [
    {
     "data": {
      "image/png": "[encoded data removed]",
      "text/plain": [
       "<Figure size 720x576 with 1 Axes>"
      ]
     },
     "metadata": {
      "needs_background": "light"
     },
     "output_type": "display_data"
    }
   ],
   "source": [
    "groups = scatter.groupby('Geschlecht')\n",
    "fig, ax = plt.subplots(figsize=(10, 8))\n",
    "for name, group in groups:\n",
    "    ax.scatter(group['kgroesse'], group['kgewicht'], label=name) \n",
    "    \n",
    "\n",
    "\n",
    "ax.set_title(\"Beziehung zwichen Groesse und Gewicht nach Geschlecht\")\n",
    "ax.set_xlabel(\"Groesse\")\n",
    "ax.set_ylabel(\"Gewicht\")\n",
    "ax.legend()\n",
    "plt.show()"
   ]
  },
  {
   "cell_type": "markdown",
   "id": "1742ccc3",
   "metadata": {},
   "source": [
    "#### Aufgabe 2\n",
    "\n",
    "Berechnen Sie die Korrelationen zwischen Größe und Gewicht der Personen im Datensatz und stellen Sie diese in einer Korrelationsmatrix dar!  \n",
    "- ***Was ist in diesem Fall die abhängige Variable und was die unabhängige Variable?*** \n",
    "- ***Warum sehen Sie in der Korrelationsmatrix nicht die anderen Merkmale des Datensatzes (Geschlecht, Studiengang)?***"
   ]
  },
  {
   "cell_type": "code",
   "execution_count": 43,
   "id": "1a406514",
   "metadata": {},
   "outputs": [
    {
     "data": {
      "image/png": "[encoded data removed]",
      "text/plain": [
       "<Figure size 576x432 with 2 Axes>"
      ]
     },
     "metadata": {
      "needs_background": "light"
     },
     "output_type": "display_data"
    }
   ],
   "source": [
    "import seaborn as sns\n",
    "\n",
    "corr_df = df.corr(method='pearson')\n",
    "\n",
    "plt.figure(figsize=(8, 6))\n",
    "sns.heatmap(corr_df, annot=True)\n",
    "plt.show()"
   ]
  },
  {
   "cell_type": "code",
   "execution_count": null,
   "id": "cb6b8301",
   "metadata": {},
   "outputs": [],
   "source": []
  }
 ],
 "metadata": {
  "kernelspec": {
   "display_name": "Python 3 (ipykernel)",
   "language": "python",
   "name": "python3"
  },
  "language_info": {
   "codemirror_mode": {
    "name": "ipython",
    "version": 3
   },
   "file_extension": ".py",
   "mimetype": "text/x-python",
   "name": "python",
   "nbconvert_exporter": "python",
   "pygments_lexer": "ipython3",
   "version": "3.9.12"
  }
 },
 "nbformat": 4,
 "nbformat_minor": 5
}
